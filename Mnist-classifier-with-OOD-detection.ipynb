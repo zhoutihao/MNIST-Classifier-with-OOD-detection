{
 "cells": [
  {
   "cell_type": "code",
   "execution_count": 1,
   "metadata": {},
   "outputs": [],
   "source": [
    "#库的引入\n",
    "%matplotlib inline\n",
    "import matplotlib.pyplot as plt\n",
    "\n",
    "import torch\n",
    "import torch.nn as nn\n",
    "import torch.optim as optim\n",
    "import torchvision\n",
    "\n",
    "from torchvision import transforms\n",
    "import torchvision.transforms as transforms\n",
    "import torch.nn.functional as F\n",
    "from torch.utils.data import Dataset, DataLoader\n",
    "from torchvision.datasets import CIFAR10\n",
    "from torch.autograd import Variable"
   ]
  },
  {
   "cell_type": "code",
   "execution_count": 3,
   "metadata": {},
   "outputs": [],
   "source": [
    "# 定义OOD数据集类\n",
    "class OodDataset(Dataset):\n",
    "    def __init__(self, ood_data, transform=None):\n",
    "        self.ood_data = ood_data\n",
    "        self.transform = transform\n",
    "\n",
    "    def __len__(self):\n",
    "        return len(self.ood_data)\n",
    "\n",
    "    def __getitem__(self, idx):\n",
    "        image, _ = self.ood_data[idx]\n",
    "        if self.transform:\n",
    "            image = self.transform(image)\n",
    "        return image, 10  # OOD类的标签为10"
   ]
  },
  {
   "cell_type": "code",
   "execution_count": 4,
   "metadata": {},
   "outputs": [],
   "source": [
    "#分类器的模型\n",
    "class Classifier(nn.Module):\n",
    "    def __init__(self):\n",
    "        super(Classifier, self).__init__()\n",
    "        self.fc1 = nn.Linear(784, 100)\n",
    "        self.fc2 = nn.Linear(100, 50)\n",
    "        self.fc3 = nn.Linear(50, 11)\n",
    "        \n",
    "        \n",
    "    def forward(self, x):\n",
    "        x = x.view((-1, 784))\n",
    "        h = self.fc1(x)\n",
    "        #h = self.bc1(h)\n",
    "        h = F.relu(h)\n",
    "        #h = F.dropout(h, p=0.5, training=self.training)\n",
    "        \n",
    "        h = self.fc2(h)\n",
    "        #h = self.bc2(h)\n",
    "        h = F.relu(h)\n",
    "        #h = F.dropout(h, p=0.2, training=self.training)\n",
    "        \n",
    "        h = self.fc3(h)\n",
    "        out = F.softmax(h,1)\n",
    "        return out\n"
   ]
  },
  {
   "cell_type": "code",
   "execution_count": 5,
   "metadata": {},
   "outputs": [],
   "source": [
    "#transform函数，主要用于把图片转变为tensor\n",
    "transform = transforms.Compose([\n",
    "    transforms.Grayscale(num_output_channels=1), # 彩色图像转灰度图像num_output_channels默认1\n",
    "    transforms.RandomCrop((28, 28)),\n",
    "    transforms.ToTensor(),\n",
    "    transforms.Normalize((0.1307,), (0.3081,)),\n",
    "])"
   ]
  },
  {
   "cell_type": "code",
   "execution_count": 6,
   "metadata": {},
   "outputs": [
    {
     "name": "stdout",
     "output_type": "stream",
     "text": [
      "Downloading http://yann.lecun.com/exdb/mnist/train-images-idx3-ubyte.gz to ./data\\MNIST\\raw\\train-images-idx3-ubyte.gz\n"
     ]
    },
    {
     "name": "stderr",
     "output_type": "stream",
     "text": [
      "100.0%\n"
     ]
    },
    {
     "name": "stdout",
     "output_type": "stream",
     "text": [
      "Extracting ./data\\MNIST\\raw\\train-images-idx3-ubyte.gz to ./data\\MNIST\\raw\n",
      "Downloading http://yann.lecun.com/exdb/mnist/train-labels-idx1-ubyte.gz to ./data\\MNIST\\raw\\train-labels-idx1-ubyte.gz\n"
     ]
    },
    {
     "name": "stderr",
     "output_type": "stream",
     "text": [
      "102.8%\n"
     ]
    },
    {
     "name": "stdout",
     "output_type": "stream",
     "text": [
      "Extracting ./data\\MNIST\\raw\\train-labels-idx1-ubyte.gz to ./data\\MNIST\\raw\n",
      "Downloading http://yann.lecun.com/exdb/mnist/t10k-images-idx3-ubyte.gz to ./data\\MNIST\\raw\\t10k-images-idx3-ubyte.gz\n"
     ]
    },
    {
     "name": "stderr",
     "output_type": "stream",
     "text": [
      "100.0%\n"
     ]
    },
    {
     "name": "stdout",
     "output_type": "stream",
     "text": [
      "Extracting ./data\\MNIST\\raw\\t10k-images-idx3-ubyte.gz to ./data\\MNIST\\raw\n",
      "Downloading http://yann.lecun.com/exdb/mnist/t10k-labels-idx1-ubyte.gz to ./data\\MNIST\\raw\\t10k-labels-idx1-ubyte.gz\n"
     ]
    },
    {
     "name": "stderr",
     "output_type": "stream",
     "text": [
      "112.7%\n"
     ]
    },
    {
     "name": "stdout",
     "output_type": "stream",
     "text": [
      "Extracting ./data\\MNIST\\raw\\t10k-labels-idx1-ubyte.gz to ./data\\MNIST\\raw\n",
      "Processing...\n"
     ]
    },
    {
     "name": "stderr",
     "output_type": "stream",
     "text": [
      "D:\\anaconda\\envs\\pytorch\\lib\\site-packages\\torchvision\\datasets\\mnist.py:479: UserWarning: The given NumPy array is not writeable, and PyTorch does not support non-writeable tensors. This means you can write to the underlying (supposedly non-writeable) NumPy array using the tensor. You may want to copy the array to protect its data or make it writeable before converting it to a tensor. This type of warning will be suppressed for the rest of this program. (Triggered internally at  ..\\torch\\csrc\\utils\\tensor_numpy.cpp:143.)\n",
      "  return torch.from_numpy(parsed.astype(m[2], copy=False)).view(*s)\n"
     ]
    },
    {
     "name": "stdout",
     "output_type": "stream",
     "text": [
      "Done!\n",
      "Downloading https://www.cs.toronto.edu/~kriz/cifar-10-python.tar.gz to ./data\\cifar-10-python.tar.gz\n"
     ]
    },
    {
     "name": "stderr",
     "output_type": "stream",
     "text": [
      "100.0%\n"
     ]
    },
    {
     "name": "stdout",
     "output_type": "stream",
     "text": [
      "Extracting ./data\\cifar-10-python.tar.gz to ./data\n",
      "Files already downloaded and verified\n"
     ]
    }
   ],
   "source": [
    "#下载并加载MNIST数据集\n",
    "mnist_trainset = torchvision.datasets.MNIST(root='./data', train=True, download=True, transform=transform)\n",
    "mnist_testset = torchvision.datasets.MNIST(root='./data', train=False, download=True, transform=transform)\n",
    "mnist_testloader = DataLoader(mnist_testset, batch_size=64, shuffle=False)\n",
    "\n",
    "# 加载CIFAR10数据集作为OOD数据集\n",
    "cifar10_trainset_1 = CIFAR10(root='./data', train=True, download=True, transform=transform)\n",
    "cifar10_trainset=OodDataset(cifar10_trainset_1)\n",
    "cifar10_testset_1 = CIFAR10(root='./data', train=False, download=True, transform=transform)\n",
    "cifar10_testset=OodDataset(cifar10_testset_1)\n",
    "ood_testloader = DataLoader(cifar10_testset, batch_size=64, shuffle=False)\n",
    "\n",
    "#将MNIST数据集和CIFAR10数据集合并为训练集\n",
    "trainset=torch.utils.data.ConcatDataset([mnist_trainset,cifar10_trainset])\n",
    "trainloader=DataLoader(trainset,batch_size=64,shuffle=True)"
   ]
  },
  {
   "cell_type": "code",
   "execution_count": 7,
   "metadata": {},
   "outputs": [],
   "source": [
    "#定义优化器\n",
    "model = Classifier()\n",
    "optimizer = optim.Adam(model.parameters(), lr=0.001)\n",
    "criterion = nn.CrossEntropyLoss()"
   ]
  },
  {
   "cell_type": "code",
   "execution_count": 8,
   "metadata": {},
   "outputs": [
    {
     "name": "stdout",
     "output_type": "stream",
     "text": [
      " Train Epoch: 0 [108864/110000 (99%)]\tLoss: 1.548694\n",
      " Train Epoch: 1 [108864/110000 (99%)]\tLoss: 1.588872\n",
      " Train Epoch: 2 [108864/110000 (99%)]\tLoss: 1.577991\n"
     ]
    }
   ],
   "source": [
    "#模型的训练\n",
    "model.train()\n",
    "losses=[]\n",
    "num_epochs = 3\n",
    "for epoch in range(num_epochs):\n",
    "    for batch_idx, (images, labels) in enumerate(trainloader):\n",
    "        images = Variable(images)\n",
    "        labels = Variable(labels)\n",
    "\n",
    "        optimizer.zero_grad()\n",
    "        outputs = model(images)\n",
    "        #loss = criterion(outputs, labels)\n",
    "        #loss.backward()\n",
    "        #optimizer.step()\n",
    "        \n",
    "        loss = F.cross_entropy(outputs, labels)\n",
    "        losses.append(loss)\n",
    "        # Backpropagation\n",
    "        loss.backward()\n",
    "        optimizer.step()\n",
    "        \n",
    "        # 训练进度的监测和错误率展示\n",
    "        if batch_idx % 100 == 1:\n",
    "            print('\\r Train Epoch: {} [{}/{} ({:.0f}%)]\\tLoss: {:.6f}'.format(\n",
    "                epoch, \n",
    "                batch_idx * len(images), \n",
    "                len(trainloader.dataset),\n",
    "                100. * batch_idx / len(trainloader), \n",
    "                loss), \n",
    "                end='')\n",
    "            \n",
    "    print()"
   ]
  },
  {
   "cell_type": "code",
   "execution_count": 9,
   "metadata": {},
   "outputs": [
    {
     "data": {
      "text/plain": [
       "[<matplotlib.lines.Line2D at 0x2393e530130>]"
      ]
     },
     "execution_count": 9,
     "metadata": {},
     "output_type": "execute_result"
    },
    {
     "data": {
      "image/png": "[encoded data removed]",
      "text/plain": [
       "<Figure size 640x480 with 1 Axes>"
      ]
     },
     "metadata": {},
     "output_type": "display_data"
    }
   ],
   "source": [
    "#生成训练过程中losses的变化图\n",
    "losses = [it.detach().numpy() for it in losses]\n",
    "plt.plot(losses)"
   ]
  },
  {
   "cell_type": "code",
   "execution_count": 10,
   "metadata": {
    "scrolled": false
   },
   "outputs": [
    {
     "name": "stdout",
     "output_type": "stream",
     "text": [
      "Epoch [1/10], Accuracy on Mnist Test Set: 95.91%\n",
      "Epoch [2/10], Accuracy on Mnist Test Set: 95.91%\n",
      "Epoch [3/10], Accuracy on Mnist Test Set: 95.91%\n",
      "Epoch [4/10], Accuracy on Mnist Test Set: 95.91%\n",
      "Epoch [5/10], Accuracy on Mnist Test Set: 95.91%\n",
      "Epoch [6/10], Accuracy on Mnist Test Set: 95.91%\n",
      "Epoch [7/10], Accuracy on Mnist Test Set: 95.91%\n",
      "Epoch [8/10], Accuracy on Mnist Test Set: 95.91%\n",
      "Epoch [9/10], Accuracy on Mnist Test Set: 95.91%\n",
      "Epoch [10/10], Accuracy on Mnist Test Set: 95.91%\n"
     ]
    }
   ],
   "source": [
    "\n",
    "#测试minist数据集\n",
    "model.eval()\n",
    "num_epochs = 10  # Number of epochs to run\n",
    "for epoch in range(num_epochs):\n",
    "    correct = 0\n",
    "    total = 0\n",
    "    for images, labels in mnist_testloader:\n",
    "        images = Variable(images)\n",
    "        labels = Variable(labels)\n",
    "\n",
    "        outputs = model(images)\n",
    "        _, predicted = torch.max(outputs.data, 1)\n",
    "        total += labels.size(0)     \n",
    "\n",
    "        \n",
    "        correct += (predicted == labels).sum()\n",
    "\n",
    "    accuracy = 100 * correct / total\n",
    "    print('Epoch [{}/{}], Accuracy on Mnist Test Set: {:.2f}%'.format(epoch+1, num_epochs, accuracy))\n",
    "    \n"
   ]
  },
  {
   "cell_type": "code",
   "execution_count": null,
   "metadata": {},
   "outputs": [],
   "source": []
  },
  {
   "cell_type": "code",
   "execution_count": 11,
   "metadata": {},
   "outputs": [
    {
     "name": "stdout",
     "output_type": "stream",
     "text": [
      "Epoch [1/10], Accuracy on OOD Test Set: 99.91%\n",
      "Epoch [2/10], Accuracy on OOD Test Set: 99.89%\n",
      "Epoch [3/10], Accuracy on OOD Test Set: 99.92%\n",
      "Epoch [4/10], Accuracy on OOD Test Set: 99.87%\n",
      "Epoch [5/10], Accuracy on OOD Test Set: 99.92%\n",
      "Epoch [6/10], Accuracy on OOD Test Set: 99.89%\n",
      "Epoch [7/10], Accuracy on OOD Test Set: 99.89%\n",
      "Epoch [8/10], Accuracy on OOD Test Set: 99.88%\n",
      "Epoch [9/10], Accuracy on OOD Test Set: 99.91%\n",
      "Epoch [10/10], Accuracy on OOD Test Set: 99.89%\n"
     ]
    }
   ],
   "source": [
    "#测试cifar数据集\n",
    "model.eval()\n",
    "num_epochs = 10  # Number of epochs to run\n",
    "for epoch in range(num_epochs):\n",
    "    correct = 0\n",
    "    total = 0\n",
    "    for images, labels in ood_testloader:\n",
    "\n",
    "        images = Variable(images)\n",
    "        labels = Variable(labels)\n",
    "\n",
    "        outputs = model(images)\n",
    "        _, predicted = torch.max(outputs.data, 1)\n",
    "        total += labels.size(0)     \n",
    "        \n",
    "        correct += (predicted == labels).sum()\n",
    "        \n",
    " \n",
    "\n",
    "    accuracy = 100 * correct / total\n",
    "    print('Epoch [{}/{}], Accuracy on OOD Test Set: {:.2f}%'.format(epoch+1, num_epochs, accuracy))\n"
   ]
  },
  {
   "cell_type": "code",
   "execution_count": null,
   "metadata": {},
   "outputs": [],
   "source": []
  }
 ],
 "metadata": {
  "kernelspec": {
   "display_name": "pytorch",
   "language": "python",
   "name": "pytorch"
  },
  "language_info": {
   "codemirror_mode": {
    "name": "ipython",
    "version": 3
   },
   "file_extension": ".py",
   "mimetype": "text/x-python",
   "name": "python",
   "nbconvert_exporter": "python",
   "pygments_lexer": "ipython3",
   "version": "3.8.16"
  }
 },
 "nbformat": 4,
 "nbformat_minor": 5
}
